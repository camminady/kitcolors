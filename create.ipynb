{
 "cells": [
  {
   "cell_type": "code",
   "execution_count": null,
   "metadata": {},
   "outputs": [],
   "source": [
    "import numpy as np\n",
    "import matplotlib.pyplot as plt "
   ]
  },
  {
   "cell_type": "code",
   "execution_count": null,
   "metadata": {},
   "outputs": [],
   "source": [
    "RGBs = {\n",
    "    \"white\": [255,255,255],\n",
    "    \"black\": [0,0,0],\n",
    "    \"green\": [0,150,130],\n",
    "    \"blue\": [70,100,170],\n",
    "    \"maygreen\": [140,182,60],\n",
    "    \"yellow\": [252,229,0],\n",
    "    \"orange\": [223,155,27],\n",
    "    \"brown\": [167,130,46],\n",
    "    \"red\": [162,34,35],\n",
    "    \"purple\": [163,16,124],\n",
    "    \"cyan\": [35,161,224]\n",
    "}"
   ]
  },
  {
   "cell_type": "code",
   "execution_count": null,
   "metadata": {},
   "outputs": [],
   "source": [
    "fig, ax = plt.subplots(1,1,figsize=(20,15))\n",
    "mm=19\n",
    "for i, key in enumerate(RGBs): \n",
    "    c = tuple(np.array(RGBs[key])/255)\n",
    "    ax.text(-0.8,mm-2*i,r\"{}\".format(key),horizontalalignment=\"right\",fontsize=25,verticalalignment=\"center\")\n",
    "    ax.text(8,mm-2*i,r\"{}, {}, {}\".format(RGBs[key][0],RGBs[key][1],RGBs[key][2]),fontsize=25,verticalalignment=\"center\")\n",
    "    ax.text(10,mm-2*i,'#%02x%02x%02x' % (RGBs[key][0],RGBs[key][1],RGBs[key][2]),fontsize = 25,verticalalignment=\"center\")\n",
    "\n",
    "    for j, alpha in enumerate(np.linspace(1.0,0.1,10)):\n",
    "        ax.scatter(0.8*j,mm-2*i,s=6200,color=c,alpha=alpha)\n",
    "        if i==0:\n",
    "            ax.text(0.8*j,mm+2,r\"$\\alpha={:.1f}$\".format(alpha),horizontalalignment=\"center\",fontsize=25,verticalalignment=\"center\",rotation=60, fontweight=\"bold\")\n",
    "ax.text(8,mm+1.6,r\"(R, G, B)${}_{256}$\",fontsize=25,verticalalignment=\"center\",fontweight=\"bold\")\n",
    "ax.text(10,mm+1.6,r\"HEX\",fontsize=25,verticalalignment=\"center\",fontweight=\"bold\")\n",
    "ax.text(-0.8,mm+1.6,r\"Name\",fontsize=25,verticalalignment=\"center\",horizontalalignment=\"right\",fontweight=\"bold\")\n",
    "\n",
    "ax.set_xlim([-1,9.6])\n",
    "ax.set_ylim([-2,22])\n",
    "plt.tight_layout()\n",
    "plt.axis(\"off\")\n",
    "plt.savefig(\"example.png\")"
   ]
  },
  {
   "cell_type": "code",
   "execution_count": null,
   "metadata": {},
   "outputs": [],
   "source": [
    "f =  open(\"__init__.py\", \"w\")\n",
    "outputstring = \"\"\n",
    "for key in RGBs:\n",
    "    c = np.array(RGBs[key])/255\n",
    "    outputstring += \"{:11} = ({:.10f}, {:.10f}, {:.10f}, {:.1f})\\n\".format(key,c[0],c[1],c[2],1.0)\n",
    "    for alpha in np.linspace(0.1,1.0,10):\n",
    "        outputstring += \"{:11} = ({:.10f}, {:.10f}, {:.10f}, {:.1f})\\n\".format(key+str(int(100*alpha)),c[0],c[1],c[2],np.round(alpha,1))\n",
    "    outputstring += \"\\n\"\n",
    "f.write(outputstring)\n",
    "f.close()"
   ]
  },
  {
   "cell_type": "code",
   "execution_count": null,
   "metadata": {
    "collapsed": false,
    "jupyter": {
     "outputs_hidden": false,
     "source_hidden": false
    },
    "nteract": {
     "transient": {
      "deleting": false
     }
    }
   },
   "outputs": [],
   "source": [
    "for i, key in enumerate(RGBs): \n",
    "    c = tuple(np.array(RGBs[key])/255)\n",
    "    print(key, end = \"; \")\n",
    "    print(RGBs[key][0],RGBs[key][1],RGBs[key][2], end= \"; \")\n",
    "    print('#%02x%02x%02x' % (RGBs[key][0],RGBs[key][1],RGBs[key][2]))"
   ]
  }
 ],
 "metadata": {
  "kernelspec": {
   "display_name": "Python 3",
   "language": "python",
   "name": "python3"
  },
  "language_info": {
   "codemirror_mode": {
    "name": "ipython",
    "version": 3
   },
   "file_extension": ".py",
   "mimetype": "text/x-python",
   "name": "python",
   "nbconvert_exporter": "python",
   "pygments_lexer": "ipython3",
   "version": "3.8.5"
  },
  "nteract": {
   "version": "0.22.0"
  }
 },
 "nbformat": 4,
 "nbformat_minor": 4
}
