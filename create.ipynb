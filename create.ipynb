{
  "cells": [
    {
      "cell_type": "code",
      "source": [
        "import numpy as np\n",
        "import matplotlib.pyplot as plt "
      ],
      "outputs": [],
      "execution_count": null,
      "metadata": {
        "execution": {
          "iopub.status.busy": "2020-03-02T13:42:51.026Z",
          "iopub.execute_input": "2020-03-02T13:42:51.034Z",
          "iopub.status.idle": "2020-03-02T13:42:51.235Z",
          "shell.execute_reply": "2020-03-02T13:42:51.231Z"
        }
      }
    },
    {
      "cell_type": "code",
      "source": [
        "RGBs = {\n",
        "    \"green\": [0,150,130],\n",
        "    \"blue\": [70,100,170],\n",
        "    \"maygreen\": [140,182,60],\n",
        "    \"yellow\": [252,229,0],\n",
        "    \"orange\": [223,155,27],\n",
        "    \"brown\": [167,130,46],\n",
        "    \"red\": [162,34,35],\n",
        "    \"purple\": [163,16,124],\n",
        "    \"cyan\": [35,161,224]\n",
        "}"
      ],
      "outputs": [],
      "execution_count": null,
      "metadata": {
        "execution": {
          "iopub.status.busy": "2020-03-02T13:42:54.521Z",
          "iopub.execute_input": "2020-03-02T13:42:54.528Z",
          "iopub.status.idle": "2020-03-02T13:42:54.533Z",
          "shell.execute_reply": "2020-03-02T13:42:54.537Z"
        }
      }
    },
    {
      "cell_type": "code",
      "source": [
        "fig, ax = plt.subplots(1,1,figsize=(20,13))\n",
        "mm=16\n",
        "for i, key in enumerate(RGBs): \n",
        "    c = tuple(np.array(RGBs[key])/255)\n",
        "    ax.text(-0.8,mm-2*i,r\"{}\".format(key),horizontalalignment=\"right\",fontsize=25,verticalalignment=\"center\")\n",
        "    ax.text(8,mm-2*i,r\"({}, {}, {})\".format(RGBs[key][0],RGBs[key][1],RGBs[key][2])+\"${}_{256}$\",fontsize=25,verticalalignment=\"center\")\n",
        "    for j, alpha in enumerate(np.linspace(1.0,0.1,10)):\n",
        "        ax.scatter(0.8*j,mm-2*i,s=6200,color=c,alpha=alpha)\n",
        "        if i==0:\n",
        "            ax.text(0.8*j,mm+2,r\"$\\alpha={:.1f}$\".format(alpha),horizontalalignment=\"center\",fontsize=25,verticalalignment=\"center\",rotation=60, fontweight=\"bold\")\n",
        "ax.text(8,mm+1.6,r\"(R, G, B)${}_{256}$\",fontsize=25,verticalalignment=\"center\",fontweight=\"bold\")\n",
        "ax.text(-0.8,mm+1.6,r\"Name\",fontsize=25,verticalalignment=\"center\",horizontalalignment=\"right\",fontweight=\"bold\")\n",
        "\n",
        "ax.set_xlim([-1,9.6])\n",
        "ax.set_ylim([-1,20])\n",
        "plt.tight_layout()\n",
        "plt.axis(\"off\")\n",
        "plt.savefig(\"example.png\")"
      ],
      "outputs": [],
      "execution_count": null,
      "metadata": {
        "execution": {
          "iopub.status.busy": "2020-03-02T13:42:55.391Z",
          "iopub.execute_input": "2020-03-02T13:42:55.398Z",
          "iopub.status.idle": "2020-03-02T13:42:56.591Z",
          "shell.execute_reply": "2020-03-02T13:42:56.630Z"
        }
      }
    },
    {
      "cell_type": "code",
      "source": [
        "f =  open(\"__init__.py\", \"w\")\n",
        "outputstring = \"\"\n",
        "for key in RGBs:\n",
        "    c = np.array(RGBs[key])/255\n",
        "    outputstring += \"{:11} = ({:.10f}, {:.10f}, {:.10f}, {:.1f})\\n\".format(key,c[0],c[1],c[2],1.0)\n",
        "    for alpha in np.linspace(0.1,1.0,10):\n",
        "        outputstring += \"{:11} = ({:.10f}, {:.10f}, {:.10f}, {:.1f})\\n\".format(key+str(int(100*alpha)),c[0],c[1],c[2],np.round(alpha,1))\n",
        "    outputstring += \"\\n\"\n",
        "f.write(outputstring)\n",
        "f.close()"
      ],
      "outputs": [],
      "execution_count": null,
      "metadata": {
        "execution": {
          "iopub.status.busy": "2020-03-02T13:48:02.468Z",
          "iopub.execute_input": "2020-03-02T13:48:02.472Z",
          "iopub.status.idle": "2020-03-02T13:48:02.476Z",
          "shell.execute_reply": "2020-03-02T13:48:02.480Z"
        }
      }
    },
    {
      "cell_type": "code",
      "source": [],
      "outputs": [],
      "execution_count": null,
      "metadata": {
        "collapsed": false,
        "jupyter": {
          "source_hidden": false,
          "outputs_hidden": false
        },
        "nteract": {
          "transient": {
            "deleting": false
          }
        }
      }
    }
  ],
  "metadata": {
    "kernelspec": {
      "display_name": "Python 3",
      "language": "python",
      "name": "python3"
    },
    "language_info": {
      "name": "python",
      "version": "3.7.6",
      "mimetype": "text/x-python",
      "codemirror_mode": {
        "name": "ipython",
        "version": 3
      },
      "pygments_lexer": "ipython3",
      "nbconvert_exporter": "python",
      "file_extension": ".py"
    },
    "nteract": {
      "version": "0.22.0"
    }
  },
  "nbformat": 4,
  "nbformat_minor": 4
}