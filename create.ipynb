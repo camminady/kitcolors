{
  "cells": [
    {
      "cell_type": "code",
      "source": [
        "import numpy as np\n",
        "import matplotlib.pyplot as plt "
      ],
      "outputs": [],
      "execution_count": null,
      "metadata": {
        "execution": {
          "iopub.status.busy": "2020-02-27T14:12:16.460Z",
          "iopub.execute_input": "2020-02-27T14:12:16.463Z",
          "iopub.status.idle": "2020-02-27T14:12:16.467Z",
          "shell.execute_reply": "2020-02-27T14:12:16.470Z"
        }
      }
    },
    {
      "cell_type": "code",
      "source": [
        "RGBs = {\n",
        "    \"green\": [0,150,130],\n",
        "    \"blue\": [70,100,170],\n",
        "    \"maygreen\": [140,182,60],\n",
        "    \"yellow\": [252,229,0],\n",
        "    \"orange\": [223,155,27],\n",
        "    \"brown\": [167,130,46],\n",
        "    \"red\": [162,34,35],\n",
        "    \"purple\": [163,16,124],\n",
        "    \"cyan\": [35,161,224]\n",
        "}"
      ],
      "outputs": [],
      "execution_count": null,
      "metadata": {
        "execution": {
          "iopub.status.busy": "2020-02-27T14:12:16.842Z",
          "iopub.execute_input": "2020-02-27T14:12:16.847Z",
          "iopub.status.idle": "2020-02-27T14:12:16.851Z",
          "shell.execute_reply": "2020-02-27T14:12:16.855Z"
        }
      }
    },
    {
      "cell_type": "code",
      "source": [
        "fig, ax = plt.subplots(1,1,figsize=(20,13))\n",
        "mm=16\n",
        "for i, key in enumerate(RGBs): \n",
        "    c = tuple(np.array(RGBs[key])/255)\n",
        "    ax.text(-0.8,mm-2*i,r\"${}$\".format(key),horizontalalignment=\"right\",fontsize=20,verticalalignment=\"center\")\n",
        "    ax.text(8,mm-2*i,r\"(R,G,B)=({},{},{})\".format(RGBs[key][0],RGBs[key][1],RGBs[key][2]),fontsize=20,verticalalignment=\"center\")\n",
        "    for j, alpha in enumerate(np.linspace(1.0,0.1,10)):\n",
        "        ax.scatter(0.8*j,mm-2*i,s=6500,color=c,alpha=alpha)\n",
        "        if i==0:\n",
        "            ax.text(0.8*j,mm+2,r\"$\\alpha={:.1f}$\".format(alpha),horizontalalignment=\"center\",fontsize=20,verticalalignment=\"center\",rotation=60)\n",
        "ax.set_xlim([-1,12])\n",
        "ax.set_ylim([-1,20])\n",
        "plt.tight_layout()\n",
        "plt.axis(\"off\")\n",
        "plt.savefig(\"example.png\")"
      ],
      "outputs": [],
      "execution_count": null,
      "metadata": {
        "execution": {
          "iopub.status.busy": "2020-02-27T14:13:10.602Z",
          "iopub.execute_input": "2020-02-27T14:13:10.606Z",
          "iopub.status.idle": "2020-02-27T14:13:11.875Z",
          "shell.execute_reply": "2020-02-27T14:13:11.883Z"
        }
      }
    },
    {
      "cell_type": "code",
      "source": [
        "f =  open(\"__init__.py\", \"w\")\n",
        "outputstring = \"\"\n",
        "for key in RGBs:\n",
        "    c = np.array(RGBs[key])/255\n",
        "    outputstring += \"{}    = ({} , {} , {} , {})\\n\".format(key,c[0],c[1],c[2],1.0)\n",
        "    for alpha in np.linspace(0.1,1.0,10):\n",
        "        outputstring += \"{}{}{} = ({} , {} , {} , {:.1f})\\n\".format(key,int(100*alpha),\" \" if alpha<1.0 else \"\",c[0],c[1],c[2],alpha)\n",
        "    outputstring += \"\\n\"\n",
        "f.write(outputstring)\n",
        "f.close()"
      ],
      "outputs": [],
      "execution_count": null,
      "metadata": {
        "execution": {
          "iopub.status.busy": "2020-02-27T14:13:28.097Z",
          "iopub.execute_input": "2020-02-27T14:13:28.102Z",
          "iopub.status.idle": "2020-02-27T14:13:28.107Z",
          "shell.execute_reply": "2020-02-27T14:13:28.129Z"
        }
      }
    },
    {
      "cell_type": "code",
      "source": [],
      "outputs": [],
      "execution_count": null,
      "metadata": {}
    }
  ],
  "metadata": {
    "kernelspec": {
      "display_name": "Python 3",
      "language": "python",
      "name": "python3"
    },
    "language_info": {
      "name": "python",
      "version": "3.7.6",
      "mimetype": "text/x-python",
      "codemirror_mode": {
        "name": "ipython",
        "version": 3
      },
      "pygments_lexer": "ipython3",
      "nbconvert_exporter": "python",
      "file_extension": ".py"
    },
    "nteract": {
      "version": "0.22.0"
    }
  },
  "nbformat": 4,
  "nbformat_minor": 4
}