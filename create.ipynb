{
 "cells": [
  {
   "cell_type": "code",
   "execution_count": null,
   "metadata": {},
   "outputs": [],
   "source": [
    "import numpy as np\n",
    "import matplotlib.pyplot as plt "
   ]
  },
  {
   "cell_type": "code",
   "execution_count": null,
   "metadata": {},
   "outputs": [],
   "source": [
    "RGBs = {\n",
    "    \"green\": [0,150,130],\n",
    "    \"blue\": [70,100,170],\n",
    "    \"yellow\": [252,229,0],\n",
    "    \"orange\": [223,155,27],\n",
    "    \"brown\": [167,130,46],\n",
    "    \"red\": [162,34,35],\n",
    "    \"cyan\": [35,161,224]\n",
    "}"
   ]
  },
  {
   "cell_type": "code",
   "execution_count": null,
   "metadata": {},
   "outputs": [],
   "source": [
    "fig, ax = plt.subplots(1,1,figsize=(10,10))\n",
    "mm=12\n",
    "for i, key in enumerate(RGBs): \n",
    "    c = tuple(np.array(RGBs[key])/255)\n",
    "    ax.text(-0.8,mm-2*i,r\"${}$\".format(key),horizontalalignment=\"right\",fontsize=20)\n",
    "    ax.text(4,mm-2*i,r\"(R,G,B)=({},{},{})\".format(RGBs[key][0],RGBs[key][1],RGBs[key][2]),fontsize=20)\n",
    "    for j, alpha in enumerate([1.0,0.8,0.6,0.4,0.2]):\n",
    "        ax.scatter(0.8*j,mm-2*i,s=5000,color=c,alpha=alpha)\n",
    "        ax.text(0.8*j,mm-2*i,r\"$\\alpha={}$\".format(alpha),horizontalalignment=\"center\",fontsize=14,verticalalignment=\"center\")\n",
    "ax.set_xlim([-1,6])\n",
    "ax.set_ylim([-1,13])\n",
    "plt.tight_layout()\n",
    "plt.axis(\"off\")\n",
    "plt.savefig(\"example.png\")"
   ]
  },
  {
   "cell_type": "code",
   "execution_count": null,
   "metadata": {},
   "outputs": [],
   "source": [
    "f =  open(\"__init__.py\", \"w\")\n",
    "outputstring = \"\"\n",
    "for key in RGBs:\n",
    "    c = np.array(RGBs[key])/255\n",
    "    outputstring += \"{}    = ({} , {} , {} , {})\\n\".format(key,c[0],c[1],c[2],1.0)\n",
    "    for alpha in np.linspace(0.1,1.0,10):\n",
    "        outputstring += \"{}{}{} = ({} , {} , {} , {:.1f})\\n\".format(key,int(100*alpha),\" \" if alpha<1.0 else \"\",c[0],c[1],c[2],alpha)\n",
    "    outputstring += \"\\n\"\n",
    "f.write(outputstring)\n",
    "f.close()"
   ]
  }
 ],
 "metadata": {
  "kernelspec": {
   "display_name": "Python 3",
   "language": "python",
   "name": "python3"
  },
  "language_info": {
   "codemirror_mode": {
    "name": "ipython",
    "version": 3
   },
   "file_extension": ".py",
   "mimetype": "text/x-python",
   "name": "python",
   "nbconvert_exporter": "python",
   "pygments_lexer": "ipython3",
   "version": "3.7.6"
  }
 },
 "nbformat": 4,
 "nbformat_minor": 4
}
